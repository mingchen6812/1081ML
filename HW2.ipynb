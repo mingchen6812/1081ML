    # 首字縮寫字（Acronym）將許多字的第一個字母取出並改為大寫後所組的字
    from __future__ import print_function
    try:
       input = raw_input
    except:
        pass
    def acronym(phrase)
        return''.join(word[0] for word in phrase.upper().split())
    def main()
        print(\"This program creates an acronym for a phrase
        print(\"entered by the user.
        print(acronym(input(\"Please enter your phrase:
    main() 
