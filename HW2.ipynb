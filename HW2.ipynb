<<<<<<< HEAD
{
 "cells": [
  {
   "cell_type": "code",
   "execution_count": null,
   "metadata": {},
   "outputs": [],
   "source": [
    "# 首字縮寫字(Acronym)是將許多字的第一個字母取出並改為大寫後所組成的字\n",
    "from __future__ import print_function\n",
    "try:\n",
    "    input = raw_input\n",
    "except:\n",
    "    pass\n",
    "def acronym(phrase):\n",
    "    return ''.join(word[0] for word in phrase.upper().split())\n",
    "def main():\n",
    "    print(\"This program creates an acronym for a phrase\")\n",
    "    print(\"entered by the user.\")\n",
    "    print(acronym(input(\"Please enter your phrase: \")))\n",
    "main()"
   ]
  }
 ],
 "metadata": {
  "kernelspec": {
   "display_name": "Python 3",
   "language": "python",
   "name": "python3"
  },
  "language_info": {
   "codemirror_mode": {
    "name": "ipython",
    "version": 3
   },
   "file_extension": ".py",
   "mimetype": "text/x-python",
   "name": "python",
   "nbconvert_exporter": "python",
   "pygments_lexer": "ipython3",
   "version": "3.7.3"
  }
 },
 "nbformat": 4,
 "nbformat_minor": 2
}
=======
    # 首字縮寫字（Acronym）將許多字的第一個字母取出並改為大寫後所組的字
    from __future__ import print_function
    try:
       input = raw_input
    except:
        pass
    def acronym(phrase)
        return ''.join(word[0] for word in phrase.upper().split())
    def main()
        print("This program creates an acronym for a phrase")
        print("entered by the user.")
        print(acronym(input("Please enter your phrase:)))
    main() 
>>>>>>> 51e46f4ed16722f95ef68de4ff29b6b801868510
