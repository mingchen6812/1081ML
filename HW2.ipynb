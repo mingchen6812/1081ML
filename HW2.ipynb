
    "# 首字縮寫字（Acronym）將許多字的第一個字母取出並改為大寫後所組的字\n",
    "from __future__ import print_function\n",
    "try:\n",
    "    input = raw_input\n",
    "except:\n",
    "    pass\n",
    "def acronym(phrase):\n",
    "    return ''.join(word[0] for word in phrase.upper().split())\n",
    "def main():\n",
    "    print(\"This program creates an acronym for a phrase\")\n",
    "    print(\"entered by the user.\")\n",
    "    print(acronym(input(\"Please enter your phrase: \")))\n",
    "main() "
  
