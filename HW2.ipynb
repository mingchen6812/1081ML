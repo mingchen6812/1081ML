{
 "cells": [
  {
   "cell_type": "code",
   "execution_count": 1,
   "metadata": {},
   "outputs": [
    {
     "name": "stdout",
     "output_type": "stream",
     "text": [
      "This program creates an acronym for a phrase\n",
      "entered by the user.\n",
      "Please enter your phrase: ig oj\n",
      "IO\n"
     ]
    }
   ],
   "source": [
    "# 首字縮寫字(Acronym)\n",
    "from __future__ import print_function\n",
    "try:\n",
    "    input = raw_input\n",
    "except:\n",
    "    pass\n",
    "def acronym(phrase):\n",
    "    return''.join(word[0] for word in phrase.upper().split())\n",
    "def main():\n",
    "    print(\"This program creates an acronym for a phrase\")\n",
    "    print(\"entered by the user.\")\n",
    "    print(acronym(input(\"Please enter your phrase: \")))\n",
    "main()"
   ]
  },
  {
   "cell_type": "code",
   "execution_count": null,
   "metadata": {},
   "outputs": [],
   "source": []
  }
 ],
 "metadata": {
  "kernelspec": {
   "display_name": "Python 3",
   "language": "python",
   "name": "python3"
  },
  "language_info": {
   "codemirror_mode": {
    "name": "ipython",
    "version": 3
   },
   "file_extension": ".py",
   "mimetype": "text/x-python",
   "name": "python",
   "nbconvert_exporter": "python",
   "pygments_lexer": "ipython3",
   "version": "3.7.3"
  }
 },
 "nbformat": 4,
 "nbformat_minor": 2
}
