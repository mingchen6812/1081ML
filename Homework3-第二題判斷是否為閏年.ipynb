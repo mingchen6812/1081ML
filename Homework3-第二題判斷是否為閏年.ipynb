{
 "cells": [
  {
   "cell_type": "code",
   "execution_count": null,
   "metadata": {},
   "outputs": [],
   "source": [
    "#Homework3(第二題)判斷是否為閏年\n",
    "print(\"判斷輸入年份是否為閏年\")\n",
    "year=input(\"請輸入年份\") \n",
    "rem4=int(year)%4        #閏年的條件可以被4整除\n",
    "rem100=int(year)%100    #上述條件成立之後，尚須除以100或除以400餘數不為零\n",
    "rem400=int(year)%400\n",
    "if rem4==0:\n",
    "    if rem100 !=0 or rem400 ==0:\n",
    "        print(\"%s是閏年\"%year)\n",
    "    else:\n",
    "        print(\"%s 不是閏年\"%year)\n",
    "else:\n",
    "    print(\"%s 不是閏年\"%year)"
   ]
  },
  {
   "cell_type": "code",
   "execution_count": null,
   "metadata": {},
   "outputs": [],
   "source": []
  }
 ],
 "metadata": {
  "kernelspec": {
   "display_name": "Python 3",
   "language": "python",
   "name": "python3"
  },
  "language_info": {
   "codemirror_mode": {
    "name": "ipython",
    "version": 3
   },
   "file_extension": ".py",
   "mimetype": "text/x-python",
   "name": "python",
   "nbconvert_exporter": "python",
   "pygments_lexer": "ipython3",
   "version": "3.7.3"
  }
 },
 "nbformat": 4,
 "nbformat_minor": 2
}
