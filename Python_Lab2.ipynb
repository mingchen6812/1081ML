{
 "cells": [
  {
   "cell_type": "code",
   "execution_count": 2,
   "metadata": {},
   "outputs": [
    {
     "name": "stdout",
     "output_type": "stream",
     "text": [
      "What is the Celsius temperature?30\n",
      "The temperature is 86.0 degree Fahrenheit.\n"
     ]
    }
   ],
   "source": [
    "def convert2():\n",
    "    celsius=eval(input(\"What is the Celsius temperature?\"))\n",
    "    fahrenheit=9/5*celsius+32\n",
    "    print(\"The temperature is\", fahrenheit,\"degree Fahrenheit.\")\n",
    "    if fahrenheit > 90:\n",
    "        print(\"It's really hot out there. Be careful!\")\n",
    "    if fahrenheit < 30:\n",
    "        print(\"It's really could out there. Be sure to dressed warmly!\")\n",
    "convert2()"
   ]
  },
  {
   "cell_type": "code",
   "execution_count": 2,
   "metadata": {},
   "outputs": [
    {
     "name": "stdout",
     "output_type": "stream",
     "text": [
      "The program finds the real solution to a quadratic\n",
      "\n",
      "Please enter the coefficients(a,b,c):3,8,4\n",
      "\n",
      "The solutios are: -0.6666666666666666 -0.6666666666666666\n"
     ]
    }
   ],
   "source": [
    "import math\n",
    "def quadratic2():\n",
    "    print(\"The program finds the real solution to a quadratic\\n\")\n",
    "    a,b,c=eval(input(\"Please enter the coefficients(a,b,c):\"))\n",
    "    discrim = b*b - 4*a*c\n",
    "    if discrim >= 0:\n",
    "        discRoot = math.sqrt(discrim)\n",
    "        root1=(-b+discRoot)/(2*a)\n",
    "        root2=(-b+discRoot)/(2*a)\n",
    "        print(\"\\nThe solutios are:\", root1, root2)\n",
    "quadratic2()"
   ]
  },
  {
   "cell_type": "code",
   "execution_count": 3,
   "metadata": {},
   "outputs": [
    {
     "name": "stdout",
     "output_type": "stream",
     "text": [
      "The program finds the real solution to a quadratic\n",
      "\n",
      "Please enter the coefficients(a,b,c):3,4,5\n",
      "\n",
      "The equation has no real roots!\n"
     ]
    }
   ],
   "source": [
    "import math\n",
    "def quadratic3():\n",
    "    print(\"The program finds the real solution to a quadratic\\n\")\n",
    "    a,b,c=eval(input(\"Please enter the coefficients(a,b,c):\"))\n",
    "    discrim = b*b - 4*a*c\n",
    "    if discrim < 0:\n",
    "        print(\"\\nThe equation has no real roots!\")\n",
    "    else:\n",
    "        discRoot = math.sqrt(discrim)\n",
    "        root1=(-b+discRoot)/(2*a)\n",
    "        root2=(-b+discRoot)/(2*a)\n",
    "        print(\"\\nThe solutios are:\", root1, root2)\n",
    "quadratic3()"
   ]
  },
  {
   "cell_type": "code",
   "execution_count": 6,
   "metadata": {},
   "outputs": [
    {
     "name": "stdout",
     "output_type": "stream",
     "text": [
      "The program finds the real solution to a quadratic\n",
      "\n",
      "Please enter the coefficients(a,b,c):4,4,1\n",
      "\n",
      "There is a double root at -0.5\n"
     ]
    }
   ],
   "source": [
    "import math\n",
    "def quadratic4():\n",
    "    print(\"The program finds the real solution to a quadratic\\n\")\n",
    "    a,b,c=eval(input(\"Please enter the coefficients(a,b,c):\"))\n",
    "    discrim = b*b - 4*a*c\n",
    "    if discrim < 0:\n",
    "        print(\"\\nThe equation has no real roots!\")\n",
    "    elif discrim==0:\n",
    "        root = -b/(2*a)\n",
    "        print(\"\\nThere is a double root at\", root)\n",
    "    else:\n",
    "        discRoot = math.sqrt(discrim)\n",
    "        root1=(-b+discRoot)/(2*a)\n",
    "        root2=(-b+discRoot)/(2*a)\n",
    "        print(\"\\nThe solutios are:\", root1, root2)\n",
    "quadratic4()"
   ]
  },
  {
   "cell_type": "code",
   "execution_count": 7,
   "metadata": {},
   "outputs": [
    {
     "name": "stdout",
     "output_type": "stream",
     "text": [
      "The program finds the real solution to a quadratic\n",
      "\n",
      "Please enter the coefficients(a,b,c):3,4,5\n",
      "\n",
      "No real roots\n"
     ]
    }
   ],
   "source": [
    "import math\n",
    "def quadratic5():\n",
    "    print(\"The program finds the real solution to a quadratic\\n\")\n",
    "    try:\n",
    "        a,b,c=eval(input(\"Please enter the coefficients(a,b,c):\"))\n",
    "        discRoot = math.sqrt(b*b - 4*a*c)\n",
    "        root1=(-b+discRoot)/(2*a)\n",
    "        root2=(-b+discRoot)/(2*a)\n",
    "        print(\"\\nThe solutios are:\", root1, root2)\n",
    "    except ValueError:\n",
    "        print(\"\\nNo real roots\")\n",
    "quadratic5()"
   ]
  },
  {
   "cell_type": "code",
   "execution_count": 11,
   "metadata": {},
   "outputs": [
    {
     "name": "stdout",
     "output_type": "stream",
     "text": [
      "The program finds the real solution to a quadratic\n",
      "\n",
      "Please enter the coefficients(a,b,c):3,4,5\n",
      "\n",
      "No real roots\n"
     ]
    }
   ],
   "source": [
    "import math\n",
    "def quadratic6():\n",
    "    print(\"The program finds the real solution to a quadratic\\n\")\n",
    "    try:\n",
    "        a,b,c=eval(input(\"Please enter the coefficients(a,b,c):\"))\n",
    "        discRoot = math.sqrt(b*b - 4*a*c)\n",
    "        root1=(-b+discRoot)/(2*a)\n",
    "        root2=(-b+discRoot)/(2*a)\n",
    "        print(\"\\nThe solutios are:\", root1, root2)\n",
    "    except ValueError as excObj:\n",
    "        if str(excObj)==\"math domain error\":\n",
    "            print(\"\\nNo real roots\")\n",
    "        else:\n",
    "            print(\"You didn't give me the right number of coefficients!\")\n",
    "    except NameError:\n",
    "        print(\"\\nYou didn't enter three numbers\")\n",
    "    except TypeError:\n",
    "        print(\"\\nYour input were not all numbers\")\n",
    "    except SyntaxError:\n",
    "        print(\"\\nYour input was not in the correct form. Missing comma?\")\n",
    "    except:\n",
    "        print(\"\\nSomething went wrong, sorry!\")\n",
    "quadratic6()"
   ]
  },
  {
   "cell_type": "code",
   "execution_count": 13,
   "metadata": {},
   "outputs": [
    {
     "name": "stdout",
     "output_type": "stream",
     "text": [
      "How many numbers are there?3\n",
      "Enter a number:145\n",
      "Enter a number:230\n",
      "Enter a number:114\n",
      "The largest value is: 230\n"
     ]
    }
   ],
   "source": [
    "def maxn():\n",
    "    n = eval(input(\"How many numbers are there?\"))\n",
    "    max =eval(input(\"Enter a number:\"))\n",
    "    for i in range(n-1):\n",
    "        x= eval(input(\"Enter a number:\"))\n",
    "        if x>max:\n",
    "            max= x\n",
    "    print(\"The largest value is:\",max)\n",
    "maxn()"
   ]
  },
  {
   "cell_type": "code",
   "execution_count": 14,
   "metadata": {},
   "outputs": [
    {
     "name": "stdout",
     "output_type": "stream",
     "text": [
      "How many numbers are there?3\n",
      "Enter a number>>100\n",
      "Enter a number>>101\n",
      "Enter a number>>102\n",
      "The average of the numbers is: 101.0\n"
     ]
    }
   ],
   "source": [
    "def average1():\n",
    "    n = eval(input(\"How many numbers are there?\"))\n",
    "    sum = 0.0\n",
    "    for i in range(n):\n",
    "        x= eval(input(\"Enter a number>>\"))\n",
    "        sum = sum + x\n",
    "    print(\"The average of the numbers is:\",sum/n)\n",
    "average1()"
   ]
  },
  {
   "cell_type": "code",
   "execution_count": 15,
   "metadata": {},
   "outputs": [
    {
     "name": "stdout",
     "output_type": "stream",
     "text": [
      "Enter a number>>100\n",
      "Do you have more numbers(yes or no)?y\n",
      "Enter a number>>101\n",
      "Do you have more numbers(yes or no)?y\n",
      "Enter a number>>102\n",
      "Do you have more numbers(yes or no)?no\n",
      "\n",
      "The average of the numbers is: 101.0\n"
     ]
    }
   ],
   "source": [
    "def average2():\n",
    "    sum = 0.0\n",
    "    count = 0\n",
    "    moredata =\"yes\"\n",
    "    while moredata[0]==\"y\":\n",
    "        x= eval(input(\"Enter a number>>\"))\n",
    "        sum=sum+x\n",
    "        count=count+1\n",
    "        moredata=input(\"Do you have more numbers(yes or no)?\")\n",
    "    print(\"\\nThe average of the numbers is:\",sum/count)\n",
    "average2()"
   ]
  },
  {
   "cell_type": "code",
   "execution_count": 16,
   "metadata": {},
   "outputs": [
    {
     "name": "stdout",
     "output_type": "stream",
     "text": [
      "Enter a number (negative to quit)>>100\n",
      "Enter a number (negative to quit)>>101\n",
      "Enter a number (negative to quit)>>102\n",
      "Enter a number (negative to quit)>>-1\n",
      "\n",
      "The average of the numbers is: 101.0\n"
     ]
    }
   ],
   "source": [
    "def average3():\n",
    "    sum = 0.0\n",
    "    count = 0\n",
    "    x= eval(input(\"Enter a number (negative to quit)>>\"))\n",
    "    while x>=0:\n",
    "        sum=sum+x\n",
    "        count=count+1\n",
    "        x=eval(input(\"Enter a number (negative to quit)>>\"))\n",
    "    print(\"\\nThe average of the numbers is:\",sum/count)\n",
    "average3()"
   ]
  },
  {
   "cell_type": "code",
   "execution_count": 3,
   "metadata": {},
   "outputs": [
    {
     "name": "stdout",
     "output_type": "stream",
     "text": [
      "Enter a number (<Enter> to quit)>>100\n",
      "Enter a number (<Enter> to quit)>>101\n",
      "Enter a number (<Enter> to quit)>>102\n",
      "Enter a number (<Enter> to quit)>>\n",
      "\n",
      "The average of the numbers is: 101.0\n"
     ]
    }
   ],
   "source": [
    "def average4():\n",
    "    sum = 0.0\n",
    "    count = 0\n",
    "    xStr = input(\"Enter a number (<Enter> to quit)>>\")\n",
    "    while xStr !=\"\":\n",
    "        x = eval(xStr)\n",
    "        sum = sum + x\n",
    "        count = count + 1\n",
    "        xStr = input(\"Enter a number (<Enter> to quit)>>\")\n",
    "    print(\"\\nThe average of the numbers is:\", sum/count)\n",
    "average4()"
   ]
  },
  {
   "cell_type": "code",
   "execution_count": 6,
   "metadata": {},
   "outputs": [
    {
     "name": "stdout",
     "output_type": "stream",
     "text": [
      "What's the name of the file?numbers.dat\n",
      "\n",
      "The average of the numbers is: 101.0\n"
     ]
    }
   ],
   "source": [
    "def average5():\n",
    "    fileName = input(\"What's the name of the file?\")\n",
    "    infile = open(fileName,'r')\n",
    "    sum = 0.0\n",
    "    count = 0\n",
    "    for line in infile:\n",
    "        sum = sum + eval(line)\n",
    "        count = count + 1\n",
    "    print(\"\\nThe average of the numbers is:\", sum/count)\n",
    "average5()"
   ]
  },
  {
   "cell_type": "code",
   "execution_count": 8,
   "metadata": {},
   "outputs": [
    {
     "name": "stdout",
     "output_type": "stream",
     "text": [
      "What's the name of the file?numbers6.dat\n",
      "\n",
      "The average of the numbers is: 101.0\n"
     ]
    }
   ],
   "source": [
    "def average6():\n",
    "    fileName = input(\"What's the name of the file?\")\n",
    "    infile = open(fileName,'r')\n",
    "    sum = 0.0\n",
    "    count = 0\n",
    "    line = infile.readline()\n",
    "    while line !=\"\":\n",
    "        if line !=\"\\n\":\n",
    "            sum = sum + eval(line)\n",
    "            count = count + 1\n",
    "        line=infile.readline()\n",
    "    print(\"\\nThe average of the numbers is:\", sum/count)\n",
    "average6()"
   ]
  },
  {
   "cell_type": "code",
   "execution_count": 10,
   "metadata": {},
   "outputs": [
    {
     "name": "stdout",
     "output_type": "stream",
     "text": [
      "What's the name of the file?numbers7.dat\n",
      "\n",
      "The average of the numbers is: 101.0\n"
     ]
    }
   ],
   "source": [
    "def average7():\n",
    "    fileName = input(\"What's the name of the file?\")\n",
    "    infile = open(fileName,'r')\n",
    "    sum = 0.0\n",
    "    count = 0\n",
    "    line = infile.readline()\n",
    "    while line !=\"\":\n",
    "        if line !=\"\\n\":\n",
    "            for xStr in line.split(\",\"):\n",
    "                sum = sum + eval(xStr)\n",
    "                count = count + 1\n",
    "        line=infile.readline()\n",
    "    print(\"\\nThe average of the numbers is:\", sum/count)\n",
    "average7()"
   ]
  },
  {
   "cell_type": "code",
   "execution_count": null,
   "metadata": {},
   "outputs": [],
   "source": []
  }
 ],
 "metadata": {
  "kernelspec": {
   "display_name": "Python 3",
   "language": "python",
   "name": "python3"
  },
  "language_info": {
   "codemirror_mode": {
    "name": "ipython",
    "version": 3
   },
   "file_extension": ".py",
   "mimetype": "text/x-python",
   "name": "python",
   "nbconvert_exporter": "python",
   "pygments_lexer": "ipython3",
   "version": "3.7.3"
  }
 },
 "nbformat": 4,
 "nbformat_minor": 2
}
