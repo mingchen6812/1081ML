{
 "cells": [
  {
   "cell_type": "code",
   "execution_count": null,
   "metadata": {},
   "outputs": [],
   "source": [
    "def main():\n",
    "\n",
    "    ## input the phrase\n",
    "    phrase = input( \")\n",
    "\n",
    "    ## split the phrase into substrings\n",
    "    phrase_split = phrase.split()\n",
    "\n",
    "\n",
    "    acronym = \"\"\n",
    "\n",
    "    ## iterate through every substring\n",
    "    for i in phrase_split:\n",
    "        acronym = acronym + i[0].upper()\n",
    "\n",
    "    print(\"The acronym for your phrase is \",acronym + \".\")\n",
    "\n",
    "main()"
   ]
  },
  {
   "cell_type": "code",
   "execution_count": null,
   "metadata": {},
   "outputs": [],
   "source": []
  }
 ],
 "metadata": {
  "kernelspec": {
   "display_name": "Python 3",
   "language": "python",
   "name": "python3"
  },
  "language_info": {
   "codemirror_mode": {
    "name": "ipython",
    "version": 3
   },
   "file_extension": ".py",
   "mimetype": "text/x-python",
   "name": "python",
   "nbconvert_exporter": "python",
   "pygments_lexer": "ipython3",
   "version": "3.7.3"
  }
 },
 "nbformat": 4,
 "nbformat_minor": 2
}
